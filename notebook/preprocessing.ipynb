{
 "cells": [
  {
   "cell_type": "markdown",
   "metadata": {},
   "source": [
    "### Quora preprocessing \n",
    "\n",
    "**(~1:30h gpu run time)**"
   ]
  },
  {
   "cell_type": "code",
   "execution_count": 1,
   "metadata": {},
   "outputs": [],
   "source": [
    "import numpy as np\n",
    "import pandas as pd\n",
    "\n",
    "from sklearn.model_selection import train_test_split\n",
    "from imblearn.over_sampling import RandomOverSampler"
   ]
  },
  {
   "cell_type": "markdown",
   "metadata": {},
   "source": [
    "### Load data"
   ]
  },
  {
   "cell_type": "code",
   "execution_count": 2,
   "metadata": {},
   "outputs": [
    {
     "data": {
      "text/html": [
       "<div>\n",
       "<style scoped>\n",
       "    .dataframe tbody tr th:only-of-type {\n",
       "        vertical-align: middle;\n",
       "    }\n",
       "\n",
       "    .dataframe tbody tr th {\n",
       "        vertical-align: top;\n",
       "    }\n",
       "\n",
       "    .dataframe thead th {\n",
       "        text-align: right;\n",
       "    }\n",
       "</style>\n",
       "<table border=\"1\" class=\"dataframe\">\n",
       "  <thead>\n",
       "    <tr style=\"text-align: right;\">\n",
       "      <th></th>\n",
       "      <th>qid</th>\n",
       "      <th>question_text</th>\n",
       "      <th>target</th>\n",
       "    </tr>\n",
       "  </thead>\n",
       "  <tbody>\n",
       "    <tr>\n",
       "      <th>0</th>\n",
       "      <td>00002165364db923c7e6</td>\n",
       "      <td>How did Quebec nationalists see their province...</td>\n",
       "      <td>0</td>\n",
       "    </tr>\n",
       "    <tr>\n",
       "      <th>1</th>\n",
       "      <td>000032939017120e6e44</td>\n",
       "      <td>Do you have an adopted dog, how would you enco...</td>\n",
       "      <td>0</td>\n",
       "    </tr>\n",
       "    <tr>\n",
       "      <th>2</th>\n",
       "      <td>0000412ca6e4628ce2cf</td>\n",
       "      <td>Why does velocity affect time? Does velocity a...</td>\n",
       "      <td>0</td>\n",
       "    </tr>\n",
       "    <tr>\n",
       "      <th>3</th>\n",
       "      <td>000042bf85aa498cd78e</td>\n",
       "      <td>How did Otto von Guericke used the Magdeburg h...</td>\n",
       "      <td>0</td>\n",
       "    </tr>\n",
       "    <tr>\n",
       "      <th>4</th>\n",
       "      <td>0000455dfa3e01eae3af</td>\n",
       "      <td>Can I convert montra helicon D to a mountain b...</td>\n",
       "      <td>0</td>\n",
       "    </tr>\n",
       "  </tbody>\n",
       "</table>\n",
       "</div>"
      ],
      "text/plain": [
       "                    qid                                      question_text  \\\n",
       "0  00002165364db923c7e6  How did Quebec nationalists see their province...   \n",
       "1  000032939017120e6e44  Do you have an adopted dog, how would you enco...   \n",
       "2  0000412ca6e4628ce2cf  Why does velocity affect time? Does velocity a...   \n",
       "3  000042bf85aa498cd78e  How did Otto von Guericke used the Magdeburg h...   \n",
       "4  0000455dfa3e01eae3af  Can I convert montra helicon D to a mountain b...   \n",
       "\n",
       "   target  \n",
       "0       0  \n",
       "1       0  \n",
       "2       0  \n",
       "3       0  \n",
       "4       0  "
      ]
     },
     "execution_count": 2,
     "metadata": {},
     "output_type": "execute_result"
    }
   ],
   "source": [
    "df_raw = pd.read_csv(\"../data/raw/train.csv\", low_memory=False)\n",
    "df_raw.head()"
   ]
  },
  {
   "cell_type": "code",
   "execution_count": 3,
   "metadata": {},
   "outputs": [
    {
     "data": {
      "text/plain": [
       "(1306122, 3)"
      ]
     },
     "execution_count": 3,
     "metadata": {},
     "output_type": "execute_result"
    }
   ],
   "source": [
    "df_raw.shape"
   ]
  },
  {
   "cell_type": "code",
   "execution_count": 4,
   "metadata": {},
   "outputs": [
    {
     "data": {
      "text/html": [
       "<div>\n",
       "<style scoped>\n",
       "    .dataframe tbody tr th:only-of-type {\n",
       "        vertical-align: middle;\n",
       "    }\n",
       "\n",
       "    .dataframe tbody tr th {\n",
       "        vertical-align: top;\n",
       "    }\n",
       "\n",
       "    .dataframe thead th {\n",
       "        text-align: right;\n",
       "    }\n",
       "</style>\n",
       "<table border=\"1\" class=\"dataframe\">\n",
       "  <thead>\n",
       "    <tr style=\"text-align: right;\">\n",
       "      <th></th>\n",
       "      <th>qid</th>\n",
       "      <th>question_text</th>\n",
       "      <th>target</th>\n",
       "    </tr>\n",
       "  </thead>\n",
       "  <tbody>\n",
       "    <tr>\n",
       "      <th>1022714</th>\n",
       "      <td>c86ab618f85e9b7fc374</td>\n",
       "      <td>Is sadism a coping mechanism for people who ar...</td>\n",
       "      <td>0</td>\n",
       "    </tr>\n",
       "    <tr>\n",
       "      <th>641364</th>\n",
       "      <td>7d9ea6d66b8866e69240</td>\n",
       "      <td>Is it possible for me as a soul to go outside ...</td>\n",
       "      <td>0</td>\n",
       "    </tr>\n",
       "    <tr>\n",
       "      <th>1225111</th>\n",
       "      <td>f01982d0cd06aba308ed</td>\n",
       "      <td>Do Pet Animal Rescue workers minimize shows of...</td>\n",
       "      <td>0</td>\n",
       "    </tr>\n",
       "    <tr>\n",
       "      <th>1130433</th>\n",
       "      <td>dd8a6b5452a407cea2ac</td>\n",
       "      <td>How do you identify a sonnet and what can we i...</td>\n",
       "      <td>0</td>\n",
       "    </tr>\n",
       "    <tr>\n",
       "      <th>1220402</th>\n",
       "      <td>ef30e73bf0a81a06ccf6</td>\n",
       "      <td>Is there a special place in hell for the likes...</td>\n",
       "      <td>0</td>\n",
       "    </tr>\n",
       "  </tbody>\n",
       "</table>\n",
       "</div>"
      ],
      "text/plain": [
       "                          qid  \\\n",
       "1022714  c86ab618f85e9b7fc374   \n",
       "641364   7d9ea6d66b8866e69240   \n",
       "1225111  f01982d0cd06aba308ed   \n",
       "1130433  dd8a6b5452a407cea2ac   \n",
       "1220402  ef30e73bf0a81a06ccf6   \n",
       "\n",
       "                                             question_text  target  \n",
       "1022714  Is sadism a coping mechanism for people who ar...       0  \n",
       "641364   Is it possible for me as a soul to go outside ...       0  \n",
       "1225111  Do Pet Animal Rescue workers minimize shows of...       0  \n",
       "1130433  How do you identify a sonnet and what can we i...       0  \n",
       "1220402  Is there a special place in hell for the likes...       0  "
      ]
     },
     "execution_count": 4,
     "metadata": {},
     "output_type": "execute_result"
    }
   ],
   "source": [
    "sampled_df = df_raw[df_raw.target == 0].sample(n=480_000, random_state=42)\n",
    "\n",
    "df = pd.concat(\n",
    "    [sampled_df, df_raw[df_raw.target == 1]]\n",
    ")\n",
    "df.head()"
   ]
  },
  {
   "cell_type": "code",
   "execution_count": 5,
   "metadata": {},
   "outputs": [
    {
     "data": {
      "text/plain": [
       "360810"
      ]
     },
     "execution_count": 5,
     "metadata": {},
     "output_type": "execute_result"
    }
   ],
   "source": [
    "# Target samples\n",
    "df.shape[0] - 200_000"
   ]
  },
  {
   "cell_type": "markdown",
   "metadata": {},
   "source": [
    "### Preprocessing"
   ]
  },
  {
   "cell_type": "code",
   "execution_count": 6,
   "metadata": {},
   "outputs": [],
   "source": [
    "# Train/Test\n",
    "X, y = df.drop('target', axis=1), df.target\n",
    "\n",
    "X_train, X_test, y_train, y_test = train_test_split(\n",
    "    X, y, test_size=0.10, random_state=42\n",
    ")\n",
    "\n",
    "train_df = X_train\n",
    "train_df['target'] = y_train\n",
    "\n",
    "test_df = X_test\n",
    "test_df['target'] = y_test"
   ]
  },
  {
   "cell_type": "markdown",
   "metadata": {},
   "source": [
    "### Random Oversampling"
   ]
  },
  {
   "cell_type": "code",
   "execution_count": 7,
   "metadata": {},
   "outputs": [],
   "source": [
    "# Oversampling\n",
    "ros = RandomOverSampler(random_state=42)\n",
    "X_resampled, y_resampled = ros.fit_resample(X_train, y_train)\n",
    "\n",
    "resampled_df = X_resampled\n",
    "resampled_df['target'] = y_resampled"
   ]
  },
  {
   "cell_type": "markdown",
   "metadata": {},
   "source": [
    "### nlpaug\n",
    "\n",
    "Using:\n",
    "  * KeyboardAug\n",
    "  * ContextualWordEmbsAug\n",
    "  * SynonymAug\n",
    "  * BackTranslationAug\n",
    "  * SpellingAug\n",
    "\n",
    "80_000 new examples for each augment "
   ]
  },
  {
   "cell_type": "code",
   "execution_count": 8,
   "metadata": {},
   "outputs": [
    {
     "data": {
      "text/plain": [
       "['Do you see a time where white people will become Trump supporters and start systematically killing Hispanics just like Germany did with Jewish people and other minorities back in the 1930s?',\n",
       " 'Are Brahmins responsible for the perpetuation of caste system and caste-based discrimination in India?',\n",
       " 'Why do the Kardashians and Jenner sisters only date black men? Why do the Kardashian sisters seem to prefer black boyfriends?',\n",
       " 'Why are books about ‘how to rape a woman’ in schools in the US?',\n",
       " 'How can I train my girlfriend to stop speaking out of place in public?']"
      ]
     },
     "execution_count": 8,
     "metadata": {},
     "output_type": "execute_result"
    }
   ],
   "source": [
    "import nlpaug.augmenter.char as nac\n",
    "import nlpaug.augmenter.word as naw\n",
    "import nlpaug.augmenter.sentence as nas\n",
    "\n",
    "df_1 = train_df[train_df.target==1].copy()\n",
    "\n",
    "texts = list(df_1.question_text)\n",
    "texts[:5]"
   ]
  },
  {
   "cell_type": "code",
   "execution_count": 11,
   "metadata": {},
   "outputs": [
    {
     "data": {
      "text/plain": [
       "['Do you see a time Etere white people will become Trump supporters and start systematically killing Hispanics just like Germany did with Jewish people and other minorities vaSk in the 1930s?',\n",
       " 'Are Brahmins responsible for the perpetuation of FastW system and caste - baAsd discrimination in India?',\n",
       " 'Why do the KafdashiSns and Jenner sisters only date black men? Why do the Kardashian sisters seem to prefer bpacI boyfriends?',\n",
       " 'Why are goiks about ‘ how to rape a w9jan ’ in schools in the US?',\n",
       " 'How can I tFaLn my girlfriend to stop speaking out of Llacw in public?']"
      ]
     },
     "execution_count": 11,
     "metadata": {},
     "output_type": "execute_result"
    }
   ],
   "source": [
    "key_board_aug = nac.KeyboardAug(aug_char_max=2, aug_word_max=2)\n",
    "key_board_texts = key_board_aug.augment(texts)\n",
    "key_board_texts[:5]"
   ]
  },
  {
   "cell_type": "code",
   "execution_count": 12,
   "metadata": {},
   "outputs": [
    {
     "data": {
      "text/plain": [
       "['Do you see a time where white people will become Trump supporters and start systematically killing Hispanics just like Frg did with Jewish people and other minority back in the 1930s?',\n",
       " 'Are Brahman responsible for the perpetuation of caste system and caste - based discrimination in India?',\n",
       " 'Why do the Kardashians and Jenner sisters only date black men? Why do the Kardashian sisters seem to choose bootleg boyfriends?',\n",
       " 'Why are books about ‘ how to outrage a woman ’ in schools in the u?',\n",
       " 'How can I train my girlfriend to end speaking out of place in world?']"
      ]
     },
     "execution_count": 12,
     "metadata": {},
     "output_type": "execute_result"
    }
   ],
   "source": [
    "synonym_aug = naw.SynonymAug(aug_max=2)\n",
    "synonym_texts = synonym_aug.augment(texts)\n",
    "synonym_texts[:5]"
   ]
  },
  {
   "cell_type": "code",
   "execution_count": 13,
   "metadata": {},
   "outputs": [
    {
     "data": {
      "text/plain": [
       "['Do you see a time where white people will become Trump supporters and start systematically killing Hispanics just like Germany did with Jewish people and other minorities block in the 1930s?',\n",
       " 'Are Brahmins responsible for the perpetuation or caste system and caste - based discrimination in India?',\n",
       " 'Why do the Kardashians and Jenner sisters only date black men? Why do the Kardashian sisters seem to prefer blacky boyfriends?',\n",
       " 'Why are books about ‘ how to rape aa woman ’ in schools in the US?',\n",
       " 'How can I train my girlfriend to stop speaking out of place in bubic?']"
      ]
     },
     "execution_count": 13,
     "metadata": {},
     "output_type": "execute_result"
    }
   ],
   "source": [
    "spelling_aug = naw.SpellingAug(aug_max=1)\n",
    "spelling_texts = spelling_aug.augment(texts)\n",
    "spelling_texts[:5]"
   ]
  },
  {
   "cell_type": "code",
   "execution_count": 9,
   "metadata": {},
   "outputs": [
    {
     "data": {
      "text/plain": [
       "<nlpaug.augmenter.word.context_word_embs.ContextualWordEmbsAug at 0x7f741183d3d0>"
      ]
     },
     "execution_count": 9,
     "metadata": {},
     "output_type": "execute_result"
    }
   ],
   "source": [
    "# Load contextual words\n",
    "contextual_words_aug = naw.ContextualWordEmbsAug(model_path='distilbert-base-uncased', aug_max=4, device='cuda')\n",
    "contextual_words_aug"
   ]
  },
  {
   "cell_type": "code",
   "execution_count": 10,
   "metadata": {},
   "outputs": [
    {
     "name": "stdout",
     "output_type": "stream",
     "text": [
      "0/72829\n",
      "1024/72829\n",
      "2048/72829\n",
      "3072/72829\n",
      "4096/72829\n",
      "5120/72829\n",
      "6144/72829\n",
      "7168/72829\n",
      "8192/72829\n",
      "9216/72829\n",
      "10240/72829\n",
      "11264/72829\n",
      "12288/72829\n",
      "13312/72829\n",
      "14336/72829\n",
      "15360/72829\n",
      "16384/72829\n",
      "17408/72829\n",
      "18432/72829\n",
      "19456/72829\n",
      "20480/72829\n",
      "21504/72829\n",
      "22528/72829\n",
      "23552/72829\n",
      "24576/72829\n",
      "25600/72829\n",
      "26624/72829\n",
      "27648/72829\n",
      "28672/72829\n",
      "29696/72829\n",
      "30720/72829\n",
      "31744/72829\n",
      "32768/72829\n",
      "33792/72829\n",
      "34816/72829\n",
      "35840/72829\n",
      "36864/72829\n",
      "37888/72829\n",
      "38912/72829\n",
      "39936/72829\n",
      "40960/72829\n",
      "41984/72829\n",
      "43008/72829\n",
      "44032/72829\n",
      "45056/72829\n",
      "46080/72829\n",
      "47104/72829\n",
      "48128/72829\n",
      "49152/72829\n",
      "50176/72829\n",
      "51200/72829\n",
      "52224/72829\n",
      "53248/72829\n",
      "54272/72829\n",
      "55296/72829\n",
      "56320/72829\n",
      "57344/72829\n",
      "58368/72829\n",
      "59392/72829\n",
      "60416/72829\n",
      "61440/72829\n",
      "62464/72829\n",
      "63488/72829\n",
      "64512/72829\n",
      "65536/72829\n",
      "66560/72829\n",
      "67584/72829\n",
      "68608/72829\n",
      "69632/72829\n",
      "70656/72829\n",
      "71680/72829\n",
      "72704/72829\n"
     ]
    },
    {
     "data": {
      "text/plain": [
       "['do you see a reality where white people invariably become trump supporters and start systematically killing hispanics just like germany did with jewish people and black minorities born in the 1930s?',\n",
       " 'are brahmins targeted for the discrimination upon caste system and family - based discrimination in india?',\n",
       " 'where do these kardashians and similar sisters only date black men? why do the kardashian sisters seem to prefer single boyfriends?',\n",
       " 'why are minds about learning how to rape a lady ’ in schools in our us?',\n",
       " 'is can hell train my girlfriend to go flirting out of place in public?']"
      ]
     },
     "execution_count": 10,
     "metadata": {},
     "output_type": "execute_result"
    }
   ],
   "source": [
    "contextual_words = []\n",
    "\n",
    "for i in range(0, len(texts), 64):\n",
    "    if i%1024==0:\n",
    "        print(f\"{i}/{len(texts)}\")\n",
    "    contextual_words += contextual_words_aug.augment(texts[i: i + 64])\n",
    "\n",
    "contextual_words[:5]"
   ]
  },
  {
   "cell_type": "code",
   "execution_count": 15,
   "metadata": {},
   "outputs": [
    {
     "data": {
      "text/plain": [
       "['Do you see a time Etere white people will become Trump supporters and start systematically killing Hispanics just like Germany did with Jewish people and other minorities vaSk in the 1930s?',\n",
       " 'Are Brahmins responsible for the perpetuation of FastW system and caste - baAsd discrimination in India?',\n",
       " 'Why do the KafdashiSns and Jenner sisters only date black men? Why do the Kardashian sisters seem to prefer bpacI boyfriends?',\n",
       " 'Why are goiks about ‘ how to rape a w9jan ’ in schools in the US?',\n",
       " 'How can I tFaLn my girlfriend to stop speaking out of Llacw in public?']"
      ]
     },
     "execution_count": 15,
     "metadata": {},
     "output_type": "execute_result"
    }
   ],
   "source": [
    "new_texts = key_board_texts + synonym_texts + contextual_words + spelling_texts\n",
    "new_texts[:5]"
   ]
  },
  {
   "cell_type": "code",
   "execution_count": 16,
   "metadata": {},
   "outputs": [
    {
     "data": {
      "text/html": [
       "<div>\n",
       "<style scoped>\n",
       "    .dataframe tbody tr th:only-of-type {\n",
       "        vertical-align: middle;\n",
       "    }\n",
       "\n",
       "    .dataframe tbody tr th {\n",
       "        vertical-align: top;\n",
       "    }\n",
       "\n",
       "    .dataframe thead th {\n",
       "        text-align: right;\n",
       "    }\n",
       "</style>\n",
       "<table border=\"1\" class=\"dataframe\">\n",
       "  <thead>\n",
       "    <tr style=\"text-align: right;\">\n",
       "      <th></th>\n",
       "      <th>question_text</th>\n",
       "      <th>target</th>\n",
       "    </tr>\n",
       "  </thead>\n",
       "  <tbody>\n",
       "    <tr>\n",
       "      <th>0</th>\n",
       "      <td>Do you see a time Etere white people will beco...</td>\n",
       "      <td>1.0</td>\n",
       "    </tr>\n",
       "    <tr>\n",
       "      <th>1</th>\n",
       "      <td>Are Brahmins responsible for the perpetuation ...</td>\n",
       "      <td>1.0</td>\n",
       "    </tr>\n",
       "    <tr>\n",
       "      <th>2</th>\n",
       "      <td>Why do the KafdashiSns and Jenner sisters only...</td>\n",
       "      <td>1.0</td>\n",
       "    </tr>\n",
       "    <tr>\n",
       "      <th>3</th>\n",
       "      <td>Why are goiks about ‘ how to rape a w9jan ’ in...</td>\n",
       "      <td>1.0</td>\n",
       "    </tr>\n",
       "    <tr>\n",
       "      <th>4</th>\n",
       "      <td>How can I tFaLn my girlfriend to stop speaking...</td>\n",
       "      <td>1.0</td>\n",
       "    </tr>\n",
       "  </tbody>\n",
       "</table>\n",
       "</div>"
      ],
      "text/plain": [
       "                                       question_text  target\n",
       "0  Do you see a time Etere white people will beco...     1.0\n",
       "1  Are Brahmins responsible for the perpetuation ...     1.0\n",
       "2  Why do the KafdashiSns and Jenner sisters only...     1.0\n",
       "3  Why are goiks about ‘ how to rape a w9jan ’ in...     1.0\n",
       "4  How can I tFaLn my girlfriend to stop speaking...     1.0"
      ]
     },
     "execution_count": 16,
     "metadata": {},
     "output_type": "execute_result"
    }
   ],
   "source": [
    "df_nlpaug = pd.DataFrame({'question_text': new_texts, 'target': np.ones(len(new_texts))})\n",
    "df_nlpaug.head()"
   ]
  },
  {
   "cell_type": "code",
   "execution_count": 17,
   "metadata": {},
   "outputs": [
    {
     "data": {
      "text/html": [
       "<div>\n",
       "<style scoped>\n",
       "    .dataframe tbody tr th:only-of-type {\n",
       "        vertical-align: middle;\n",
       "    }\n",
       "\n",
       "    .dataframe tbody tr th {\n",
       "        vertical-align: top;\n",
       "    }\n",
       "\n",
       "    .dataframe thead th {\n",
       "        text-align: right;\n",
       "    }\n",
       "</style>\n",
       "<table border=\"1\" class=\"dataframe\">\n",
       "  <thead>\n",
       "    <tr style=\"text-align: right;\">\n",
       "      <th></th>\n",
       "      <th>qid</th>\n",
       "      <th>question_text</th>\n",
       "      <th>target</th>\n",
       "    </tr>\n",
       "  </thead>\n",
       "  <tbody>\n",
       "    <tr>\n",
       "      <th>90150</th>\n",
       "      <td>11aaa9f9ddea69b5809f</td>\n",
       "      <td>What is the meaning of merits of the case?</td>\n",
       "      <td>0.0</td>\n",
       "    </tr>\n",
       "    <tr>\n",
       "      <th>58642</th>\n",
       "      <td>0b816d1f1762919ca21d</td>\n",
       "      <td>How do I find out the original owner of house ...</td>\n",
       "      <td>0.0</td>\n",
       "    </tr>\n",
       "    <tr>\n",
       "      <th>350652</th>\n",
       "      <td>44b93de11db2266b17ac</td>\n",
       "      <td>Why was Veer Savarkar linked to Mahatma Gandhi...</td>\n",
       "      <td>0.0</td>\n",
       "    </tr>\n",
       "    <tr>\n",
       "      <th>982543</th>\n",
       "      <td>c07df1117a2439500d86</td>\n",
       "      <td>What is the best moveset for Xurkitree?</td>\n",
       "      <td>0.0</td>\n",
       "    </tr>\n",
       "    <tr>\n",
       "      <th>743026</th>\n",
       "      <td>918731b2ade71a2cd655</td>\n",
       "      <td>Which is the best portal to buy dermatologists...</td>\n",
       "      <td>0.0</td>\n",
       "    </tr>\n",
       "  </tbody>\n",
       "</table>\n",
       "</div>"
      ],
      "text/plain": [
       "                         qid  \\\n",
       "90150   11aaa9f9ddea69b5809f   \n",
       "58642   0b816d1f1762919ca21d   \n",
       "350652  44b93de11db2266b17ac   \n",
       "982543  c07df1117a2439500d86   \n",
       "743026  918731b2ade71a2cd655   \n",
       "\n",
       "                                            question_text  target  \n",
       "90150          What is the meaning of merits of the case?     0.0  \n",
       "58642   How do I find out the original owner of house ...     0.0  \n",
       "350652  Why was Veer Savarkar linked to Mahatma Gandhi...     0.0  \n",
       "982543            What is the best moveset for Xurkitree?     0.0  \n",
       "743026  Which is the best portal to buy dermatologists...     0.0  "
      ]
     },
     "execution_count": 17,
     "metadata": {},
     "output_type": "execute_result"
    }
   ],
   "source": [
    "train_nlpaug = pd.concat([train_df, df_nlpaug])\n",
    "train_nlpaug.head()"
   ]
  },
  {
   "cell_type": "code",
   "execution_count": 18,
   "metadata": {},
   "outputs": [
    {
     "data": {
      "text/plain": [
       "(796045, 3)"
      ]
     },
     "execution_count": 18,
     "metadata": {},
     "output_type": "execute_result"
    }
   ],
   "source": [
    "train_nlpaug.shape"
   ]
  },
  {
   "cell_type": "code",
   "execution_count": 1,
   "metadata": {},
   "outputs": [
    {
     "ename": "NameError",
     "evalue": "name 'train_nlpaug' is not defined",
     "output_type": "error",
     "traceback": [
      "\u001b[0;31m---------------------------------------------------------------------------\u001b[0m",
      "\u001b[0;31mNameError\u001b[0m                                 Traceback (most recent call last)",
      "\u001b[0;32m<ipython-input-1-58a76df1cc9b>\u001b[0m in \u001b[0;36m<module>\u001b[0;34m\u001b[0m\n\u001b[0;32m----> 1\u001b[0;31m \u001b[0mtrain_nlpaug\u001b[0m\u001b[0;34m.\u001b[0m\u001b[0mtarget\u001b[0m\u001b[0;34m.\u001b[0m\u001b[0mvalue_counts\u001b[0m\u001b[0;34m(\u001b[0m\u001b[0;34m)\u001b[0m\u001b[0;34m\u001b[0m\u001b[0;34m\u001b[0m\u001b[0m\n\u001b[0m",
      "\u001b[0;31mNameError\u001b[0m: name 'train_nlpaug' is not defined"
     ]
    }
   ],
   "source": [
    "train_nlpaug.target.value_counts()"
   ]
  },
  {
   "cell_type": "code",
   "execution_count": 2,
   "metadata": {},
   "outputs": [
    {
     "name": "stderr",
     "output_type": "stream",
     "text": [
      "/home/fdem/anaconda3/lib/python3.8/site-packages/IPython/core/interactiveshell.py:3165: DtypeWarning: Columns (1) have mixed types.Specify dtype option on import or set low_memory=False.\n",
      "  has_raised = await self.run_ast_nodes(code_ast.body, cell_name,\n"
     ]
    },
    {
     "data": {
      "text/plain": [
       "(796045, 4)"
      ]
     },
     "execution_count": 2,
     "metadata": {},
     "output_type": "execute_result"
    }
   ],
   "source": [
    "import pandas as pd\n",
    "t = pd.read_csv(\"../data/nlpaug/train.csv\")\n",
    "t.shape"
   ]
  },
  {
   "cell_type": "code",
   "execution_count": 6,
   "metadata": {},
   "outputs": [
    {
     "data": {
      "text/plain": [
       "(728290, 4)"
      ]
     },
     "execution_count": 6,
     "metadata": {},
     "output_type": "execute_result"
    }
   ],
   "source": [
    "x1 = t[t.target==1]\n",
    "x2 = t[t.target==0]\n",
    "x2 = x2.sample(n=364145)\n",
    "\n",
    "df = pd.concat([x1, x2])\n",
    "df.shape"
   ]
  },
  {
   "cell_type": "code",
   "execution_count": 8,
   "metadata": {},
   "outputs": [
    {
     "data": {
      "text/plain": [
       "0.0    364145\n",
       "1.0    364145\n",
       "Name: target, dtype: int64"
      ]
     },
     "execution_count": 8,
     "metadata": {},
     "output_type": "execute_result"
    }
   ],
   "source": [
    "df.target.value_counts()"
   ]
  },
  {
   "cell_type": "markdown",
   "metadata": {},
   "source": [
    "### Save"
   ]
  },
  {
   "cell_type": "code",
   "execution_count": 20,
   "metadata": {},
   "outputs": [],
   "source": [
    "# train datasets\n",
    "resampled_df.to_csv(\"../data/ros/train.csv\")\n",
    "train_nlpaug.to_csv(\"../data/nlpaug/train.csv\")\n",
    "\n",
    "# nlpaug\n",
    "test_df.to_csv(\"../data/processed/test.csv\")"
   ]
  },
  {
   "cell_type": "code",
   "execution_count": null,
   "metadata": {},
   "outputs": [],
   "source": []
  }
 ],
 "metadata": {
  "interpreter": {
   "hash": "9e9582e8547f3228029591ab69722d0e7c67d7caf2f49c6003d3efa221005ccd"
  },
  "kernelspec": {
   "display_name": "Python 3.8.8 64-bit ('base': conda)",
   "language": "python",
   "name": "python3"
  },
  "language_info": {
   "codemirror_mode": {
    "name": "ipython",
    "version": 3
   },
   "file_extension": ".py",
   "mimetype": "text/x-python",
   "name": "python",
   "nbconvert_exporter": "python",
   "pygments_lexer": "ipython3",
   "version": "3.8.8"
  },
  "orig_nbformat": 4
 },
 "nbformat": 4,
 "nbformat_minor": 2
}
